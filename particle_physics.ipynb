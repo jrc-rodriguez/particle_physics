{
 "cells": [
  {
   "cell_type": "code",
   "execution_count": 44,
   "metadata": {},
   "outputs": [],
   "source": [
    "import numpy as np\n",
    "import matplotlib.pyplot as plt\n",
    "from scipy.optimize import curve_fit\n",
    "import csv\n",
    "import pandas as pd\n"
   ]
  },
  {
   "cell_type": "code",
   "execution_count": 52,
   "metadata": {},
   "outputs": [
    {
     "data": {
      "text/html": [
       "<div>\n",
       "<style scoped>\n",
       "    .dataframe tbody tr th:only-of-type {\n",
       "        vertical-align: middle;\n",
       "    }\n",
       "\n",
       "    .dataframe tbody tr th {\n",
       "        vertical-align: top;\n",
       "    }\n",
       "\n",
       "    .dataframe thead th {\n",
       "        text-align: right;\n",
       "    }\n",
       "</style>\n",
       "<table border=\"1\" class=\"dataframe\">\n",
       "  <thead>\n",
       "    <tr style=\"text-align: right;\">\n",
       "      <th></th>\n",
       "      <th>pulseheight</th>\n",
       "      <th>counts_ch_A</th>\n",
       "      <th>counts_ch_B</th>\n",
       "    </tr>\n",
       "  </thead>\n",
       "  <tbody>\n",
       "    <tr>\n",
       "      <th>0</th>\n",
       "      <td>8.955882</td>\n",
       "      <td>693</td>\n",
       "      <td>3173</td>\n",
       "    </tr>\n",
       "    <tr>\n",
       "      <th>1</th>\n",
       "      <td>11.867647</td>\n",
       "      <td>2276</td>\n",
       "      <td>1894</td>\n",
       "    </tr>\n",
       "    <tr>\n",
       "      <th>2</th>\n",
       "      <td>14.779412</td>\n",
       "      <td>4186</td>\n",
       "      <td>2064</td>\n",
       "    </tr>\n",
       "    <tr>\n",
       "      <th>3</th>\n",
       "      <td>17.691176</td>\n",
       "      <td>3296</td>\n",
       "      <td>2744</td>\n",
       "    </tr>\n",
       "    <tr>\n",
       "      <th>4</th>\n",
       "      <td>20.602941</td>\n",
       "      <td>2417</td>\n",
       "      <td>2163</td>\n",
       "    </tr>\n",
       "    <tr>\n",
       "      <th>...</th>\n",
       "      <td>...</td>\n",
       "      <td>...</td>\n",
       "      <td>...</td>\n",
       "    </tr>\n",
       "    <tr>\n",
       "      <th>250</th>\n",
       "      <td>736.897059</td>\n",
       "      <td>0</td>\n",
       "      <td>0</td>\n",
       "    </tr>\n",
       "    <tr>\n",
       "      <th>251</th>\n",
       "      <td>739.808824</td>\n",
       "      <td>0</td>\n",
       "      <td>0</td>\n",
       "    </tr>\n",
       "    <tr>\n",
       "      <th>252</th>\n",
       "      <td>742.720588</td>\n",
       "      <td>0</td>\n",
       "      <td>0</td>\n",
       "    </tr>\n",
       "    <tr>\n",
       "      <th>253</th>\n",
       "      <td>745.632353</td>\n",
       "      <td>0</td>\n",
       "      <td>0</td>\n",
       "    </tr>\n",
       "    <tr>\n",
       "      <th>254</th>\n",
       "      <td>748.544118</td>\n",
       "      <td>0</td>\n",
       "      <td>0</td>\n",
       "    </tr>\n",
       "  </tbody>\n",
       "</table>\n",
       "<p>255 rows × 3 columns</p>\n",
       "</div>"
      ],
      "text/plain": [
       "     pulseheight  counts_ch_A  counts_ch_B\n",
       "0       8.955882          693         3173\n",
       "1      11.867647         2276         1894\n",
       "2      14.779412         4186         2064\n",
       "3      17.691176         3296         2744\n",
       "4      20.602941         2417         2163\n",
       "..           ...          ...          ...\n",
       "250   736.897059            0            0\n",
       "251   739.808824            0            0\n",
       "252   742.720588            0            0\n",
       "253   745.632353            0            0\n",
       "254   748.544118            0            0\n",
       "\n",
       "[255 rows x 3 columns]"
      ]
     },
     "execution_count": 52,
     "metadata": {},
     "output_type": "execute_result"
    }
   ],
   "source": [
    "data_1 = pd.read_csv(\"spectrum_1.csv\")\n",
    "data_2 = pd.read_csv(\"spectrum_time.csv\")\n",
    "data_2"
   ]
  },
  {
   "cell_type": "code",
   "execution_count": 46,
   "metadata": {},
   "outputs": [
    {
     "name": "stdout",
     "output_type": "stream",
     "text": [
      "0        8.955882\n",
      "1       11.867647\n",
      "2       14.779412\n",
      "3       17.691176\n",
      "4       20.602941\n",
      "          ...    \n",
      "250    736.897059\n",
      "251    739.808824\n",
      "252    742.720588\n",
      "253    745.632353\n",
      "254    748.544118\n",
      "Name: pulseheight, Length: 255, dtype: float64\n"
     ]
    }
   ],
   "source": [
    "pulseheights = data_1[\"pulseheight\"]\n",
    "counts_A = data_1[\"counts_ch_A\"]\n",
    "counts_B = data_1[\"counts_ch_B\"]\n",
    "\n",
    "print(pulseheights)"
   ]
  },
  {
   "cell_type": "code",
   "execution_count": 47,
   "metadata": {},
   "outputs": [
    {
     "data": {
      "image/png": "[encoded data removed]",
      "text/plain": [
       "<Figure size 640x480 with 1 Axes>"
      ]
     },
     "metadata": {},
     "output_type": "display_data"
    }
   ],
   "source": [
    "plt.plot(pulseheights, counts_A, color ='red', label = 'channel A')\n",
    "plt.plot(pulseheights, counts_B, color = 'blue', label = 'channel B')\n",
    "plt.legend(loc = 'upper right')\n",
    "plt.ylabel(\"counts\")\n",
    "plt.xlabel(\"pulseheights (mV)\")\n",
    "plt.show()"
   ]
  },
  {
   "cell_type": "code",
   "execution_count": 48,
   "metadata": {},
   "outputs": [
    {
     "name": "stdout",
     "output_type": "stream",
     "text": [
      "0.014125956444967627 0.03563368571089203\n",
      "-0.021507729265924404\n"
     ]
    }
   ],
   "source": [
    "t = 600\n",
    "D = 0.321\n",
    "c = 2.99792458 * 10 ** 8\n",
    "\n",
    "t_1 = t / sum(counts_A)\n",
    "t_2 = t / sum(counts_B)\n",
    "delta_t = t_1 - t_2\n",
    "\n",
    "print(t_1, t_2)\n",
    "print(delta_t)"
   ]
  },
  {
   "cell_type": "code",
   "execution_count": 49,
   "metadata": {},
   "outputs": [
    {
     "name": "stdout",
     "output_type": "stream",
     "text": [
      "-3223927.350815006\n",
      "3223927.6718150065\n"
     ]
    }
   ],
   "source": [
    "d_1 = 0.5 * (D + c * delta_t)\n",
    "d_2 = 0.5 * (D - c * delta_t)\n",
    "\n",
    "print(d_1)\n",
    "print(d_2)"
   ]
  }
 ],
 "metadata": {
  "kernelspec": {
   "display_name": "nsp2",
   "language": "python",
   "name": "python3"
  },
  "language_info": {
   "codemirror_mode": {
    "name": "ipython",
    "version": 3
   },
   "file_extension": ".py",
   "mimetype": "text/x-python",
   "name": "python",
   "nbconvert_exporter": "python",
   "pygments_lexer": "ipython3",
   "version": "3.13.0"
  }
 },
 "nbformat": 4,
 "nbformat_minor": 2
}
