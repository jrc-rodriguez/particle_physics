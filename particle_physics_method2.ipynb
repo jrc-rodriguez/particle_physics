{
 "cells": [
  {
   "cell_type": "code",
   "execution_count": 1,
   "metadata": {},
   "outputs": [],
   "source": [
    "import numpy as np\n",
    "import matplotlib.pyplot as plt\n",
    "import pandas as pd\n",
    "import seaborn as sb"
   ]
  },
  {
   "cell_type": "code",
   "execution_count": 2,
   "metadata": {},
   "outputs": [],
   "source": [
    "data_x1 = pd.read_csv(\"spectrum_x_method2/spectrum_x1.csv\")\n",
    "data_x2 = pd.read_csv(\"spectrum_x_method2/spectrum_x2.csv\")\n",
    "data_x3 = pd.read_csv(\"spectrum_x_method2/spectrum_x3.csv\")\n",
    "data_x4 = pd.read_csv(\"spectrum_x_method2/spectrum_x4.csv\")\n",
    "data_x5 = pd.read_csv(\"spectrum_x_method2/spectrum_x5.csv\")\n",
    "data_source = pd.read_csv(\"calibration_and_background_method2/spectrum_scaling.csv\")\n",
    "data_background = pd.read_csv(\"calibration_and_background_method2/background_spectrum.csv\")\n",
    "\n",
    "data_y1 = pd.read_csv(\"spectrum_y_method2/spectrum_y1.csv\")\n",
    "data_y2 = pd.read_csv(\"spectrum_y_method2/spectrum_y2.csv\")\n",
    "data_y3 = pd.read_csv(\"spectrum_y_method2/spectrum_y3.csv\")\n",
    "data_y4 = pd.read_csv(\"spectrum_y_method2/spectrum_y4.csv\")"
   ]
  },
  {
   "cell_type": "code",
   "execution_count": 3,
   "metadata": {},
   "outputs": [],
   "source": [
    "def adjust(dataset_1, dataset_2):\n",
    "    x_data = []\n",
    "    y_data = []\n",
    "    \n",
    "    for i, j in zip(dataset_1, dataset_2):\n",
    "        if i > 193.1787 and i < 203.5260662:\n",
    "            x_data.append(i)\n",
    "            y_data.append(j)\n",
    "            \n",
    "    return x_data, y_data\n",
    "\n",
    "def remove_background(dataset, dataset_2):\n",
    "    data = []\n",
    "    \n",
    "    for i, j in zip(dataset, dataset_2):\n",
    "        x = i - j\n",
    "        data.append(x)\n",
    "    \n",
    "    return data\n",
    "\n",
    "def add_counts(dataset_1, dataset_2):\n",
    "    total_counts = []\n",
    "    \n",
    "    for i, j in zip(dataset_1, dataset_2):\n",
    "        total_counts.append(i + j)\n",
    "        \n",
    "    return total_counts\n",
    "\n",
    "def scaling(dataset, scaling_factor):\n",
    "    data = []\n",
    "    for i in dataset:\n",
    "        data.append(i * scaling_factor)\n",
    "    return data"
   ]
  },
  {
   "cell_type": "code",
   "execution_count": 4,
   "metadata": {},
   "outputs": [],
   "source": [
    "pulseheights_background = data_background[\"pulseheight\"]\n",
    "counts_background_A = data_background[\"counts_ch_A\"]\n",
    "counts_background_B = data_background[\"counts_ch_B\"]\n",
    "counts_tot_background = add_counts(counts_background_A, counts_background_B)\n",
    "\n",
    "counts_A_x1 = remove_background(data_x1[\"counts_ch_A\"], counts_background_A)\n",
    "counts_B_x1 = remove_background(data_x1[\"counts_ch_B\"], counts_background_B)\n",
    "counts_total_x1 = add_counts(counts_A_x1, counts_B_x1)\n",
    "\n",
    "counts_A_x2 = remove_background(data_x2[\"counts_ch_A\"], counts_background_A)\n",
    "counts_B_x2 = remove_background(data_x2[\"counts_ch_B\"], counts_background_B)\n",
    "counts_total_x2 = add_counts(counts_A_x2, counts_B_x2)\n",
    "\n",
    "counts_A_x3 = remove_background(data_x3[\"counts_ch_A\"], counts_background_A)\n",
    "counts_B_x3 = remove_background(data_x3[\"counts_ch_B\"], counts_background_B)\n",
    "counts_total_x3 = add_counts(counts_A_x3, counts_B_x3)\n",
    "\n",
    "counts_A_x4 = remove_background(data_x4[\"counts_ch_A\"], counts_background_A)\n",
    "counts_B_x4 = remove_background(data_x4[\"counts_ch_B\"], counts_background_B)\n",
    "counts_total_x4 = add_counts(counts_A_x4, counts_B_x4)\n",
    "\n",
    "counts_A_x5 = remove_background(data_x5[\"counts_ch_A\"], counts_background_A)\n",
    "counts_B_x5 = remove_background(data_x5[\"counts_ch_B\"], counts_background_B)\n",
    "counts_total_x5 = add_counts(counts_A_x5, counts_B_x5)\n",
    "\n",
    "pulseheights = data_source[\"pulseheight\"]\n",
    "counts_A_source = remove_background(data_source[\"counts_ch_A\"], counts_background_A)\n",
    "counts_B_source = remove_background(data_source[\"counts_ch_B\"], counts_background_B)\n",
    "counts_total_source = add_counts(counts_A_source, counts_B_source)\n"
   ]
  },
  {
   "cell_type": "code",
   "execution_count": 5,
   "metadata": {},
   "outputs": [],
   "source": [
    "\n",
    "counts_A_y1 = remove_background(data_y1[\"counts_ch_A\"], counts_background_A)\n",
    "counts_B_y1 = remove_background(data_y1[\"counts_ch_B\"], counts_background_B)\n",
    "counts_total_y1 = add_counts(counts_A_y1, counts_B_y1)\n",
    "\n",
    "counts_A_y2 = remove_background(data_y2[\"counts_ch_A\"], counts_background_A)\n",
    "counts_B_y2 = remove_background(data_y2[\"counts_ch_B\"], counts_background_B)\n",
    "counts_total_y2 = add_counts(counts_A_y2, counts_B_y2)\n",
    "\n",
    "counts_A_y3 = remove_background(data_y3[\"counts_ch_A\"], counts_background_A)\n",
    "counts_B_y3 = remove_background(data_y3[\"counts_ch_B\"], counts_background_B)\n",
    "counts_total_y3 = add_counts(counts_A_y3, counts_B_y3)\n",
    "\n",
    "counts_A_y4 = remove_background(data_y4[\"counts_ch_A\"], counts_background_A)\n",
    "counts_B_y4 = remove_background(data_y4[\"counts_ch_B\"], counts_background_B)\n",
    "counts_total_y4 = add_counts(counts_A_y4, counts_B_y4)"
   ]
  },
  {
   "cell_type": "code",
   "execution_count": 6,
   "metadata": {},
   "outputs": [
    {
     "name": "stdout",
     "output_type": "stream",
     "text": [
      "2.0476190476190474\n"
     ]
    }
   ],
   "source": [
    "scaling_factor = max(counts_A_source) / max(counts_B_source)\n",
    "print(scaling_factor)"
   ]
  },
  {
   "cell_type": "code",
   "execution_count": 7,
   "metadata": {},
   "outputs": [],
   "source": [
    "counts_B_x1 = scaling(counts_B_x1, scaling_factor)\n",
    "counts_B_x2 = scaling(counts_B_x2, scaling_factor)\n",
    "counts_B_x3 = scaling(counts_B_x3, scaling_factor)\n",
    "counts_B_x4 = scaling(counts_B_x4, scaling_factor)\n",
    "counts_B_x5 = scaling(counts_B_x5, scaling_factor)\n",
    "\n",
    "counts_B_y1 = scaling(counts_B_y1, scaling_factor)\n",
    "counts_B_y2 = scaling(counts_B_y2, scaling_factor)\n",
    "counts_B_y3 = scaling(counts_B_y3, scaling_factor)\n",
    "counts_B_y4 = scaling(counts_B_y4, scaling_factor)\n",
    "\n",
    "counts_B_source = scaling(counts_B_source, scaling_factor)"
   ]
  },
  {
   "cell_type": "code",
   "execution_count": 8,
   "metadata": {},
   "outputs": [],
   "source": [
    "\n",
    "_, counts_A_x1 = adjust(pulseheights, counts_A_x1)\n",
    "_, counts_B_x1 = adjust(pulseheights, counts_B_x1)\n",
    "_, counts_A_x2 = adjust(pulseheights, counts_A_x2)\n",
    "_, counts_B_x2 = adjust(pulseheights, counts_B_x2)\n",
    "_, counts_A_x3 = adjust(pulseheights, counts_A_x3)\n",
    "_, counts_B_x3 = adjust(pulseheights, counts_B_x3)\n",
    "_, counts_A_x4 = adjust(pulseheights, counts_A_x4)\n",
    "_, counts_B_x4 = adjust(pulseheights, counts_B_x4)\n",
    "_, counts_A_x5 = adjust(pulseheights, counts_A_x5)\n",
    "_, counts_B_x5 = adjust(pulseheights, counts_B_x5)\n",
    "\n",
    "x1_counts = [sum(counts_B_x1)]\n",
    "x2_counts = [sum(counts_B_x2)]\n",
    "x3_counts = [sum(counts_B_x3)]\n",
    "x4_counts = [sum(counts_B_x4)]\n",
    "x5_counts = [sum(counts_B_x5)]\n",
    "\n",
    "x_counts = [x1_counts, x2_counts, x3_counts, x4_counts, x5_counts]\n",
    "\n"
   ]
  },
  {
   "cell_type": "code",
   "execution_count": 9,
   "metadata": {},
   "outputs": [],
   "source": [
    "\n",
    "_, counts_A_y1 = adjust(pulseheights, counts_A_y1)\n",
    "_, counts_B_y1 = adjust(pulseheights, counts_B_y1)\n",
    "_, counts_A_y2 = adjust(pulseheights, counts_A_y2)\n",
    "_, counts_B_y2 = adjust(pulseheights, counts_B_y2)\n",
    "_, counts_A_y3 = adjust(pulseheights, counts_A_y3)\n",
    "_, counts_B_y3 = adjust(pulseheights, counts_B_y3)\n",
    "_, counts_A_y4 = adjust(pulseheights, counts_A_y4)\n",
    "_, counts_B_y4 = adjust(pulseheights, counts_B_y4)\n",
    "\n",
    "y1_counts = [sum(counts_B_y1)]\n",
    "y2_counts = [sum(counts_B_y2)]\n",
    "y3_counts = [sum(counts_B_y3)]\n",
    "y4_counts = [sum(counts_B_y4)]\n",
    "\n",
    "y_counts = [y1_counts, y2_counts, y3_counts, y4_counts]\n"
   ]
  },
  {
   "cell_type": "code",
   "execution_count": 10,
   "metadata": {},
   "outputs": [
    {
     "data": {
      "image/png": "[encoded data removed]",
      "text/plain": [
       "<Figure size 800x600 with 2 Axes>"
      ]
     },
     "metadata": {},
     "output_type": "display_data"
    }
   ],
   "source": [
    "x_positions = np.array([3.05, 9.15, 15.25, 21.35, 27.45]) \n",
    "y_positions = np.array([3.05, 9.15, 15.25, 21.35])\n",
    "\n",
    "# total amount of counts at location (xi, yi) is the sum of counts_xi and counts_yi\n",
    "counts = np.array([\n",
    "    [x1_counts[0] + y1_counts[0], x2_counts[0] + y1_counts[0], x3_counts[0] + y1_counts[0], \n",
    "     x4_counts[0] + y1_counts[0], x5_counts[0] + y1_counts[0]],  \n",
    "    [x1_counts[0] + y2_counts[0], x2_counts[0] + y2_counts[0], x3_counts[0] + y2_counts[0], x4_counts[0]\n",
    "     + y2_counts[0], x5_counts[0] + y2_counts[0]],  \n",
    "    [x1_counts[0] + y3_counts[0], x2_counts[0] + y3_counts[0], x3_counts[0] + y3_counts[0], x4_counts[0]\n",
    "     + y3_counts[0], x5_counts[0] + y3_counts[0]],  \n",
    "    [x1_counts[0] + y4_counts[0], x2_counts[0] + y4_counts[0], x3_counts[0] + y4_counts[0], x4_counts[0]\n",
    "     + y4_counts[0], x5_counts[0] + y4_counts[0]] \n",
    "])\n",
    "\n",
    "# scale to kilo counts for easier reading\n",
    "counts = counts / 1000\n",
    "\n",
    "fig, ax = plt.subplots(figsize=(8, 6))\n",
    "heatmap = sb.heatmap(counts, annot=True, xticklabels=x_positions, yticklabels=y_positions, cmap = \"Greys\", cbar_kws={\"location\": \"left\"})\n",
    "\n",
    "ax.invert_yaxis()\n",
    "ax.invert_xaxis()\n",
    "\n",
    "ax.yaxis.tick_right()\n",
    "ax.yaxis.set_label_position(\"right\")\n",
    "plt.title(\"Heatmap of the box (kilo counts)\")\n",
    "plt.xlabel(\"x (cm)\")\n",
    "plt.ylabel(\"y (cm)\")\n",
    "\n",
    "plt.show()\n"
   ]
  }
 ],
 "metadata": {
  "kernelspec": {
   "display_name": "nsp2",
   "language": "python",
   "name": "python3"
  },
  "language_info": {
   "codemirror_mode": {
    "name": "ipython",
    "version": 3
   },
   "file_extension": ".py",
   "mimetype": "text/x-python",
   "name": "python",
   "nbconvert_exporter": "python",
   "pygments_lexer": "ipython3",
   "version": "3.13.0"
  }
 },
 "nbformat": 4,
 "nbformat_minor": 2
}
